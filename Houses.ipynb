{
 "cells": [
  {
   "cell_type": "code",
   "execution_count": 4,
   "metadata": {},
   "outputs": [],
   "source": [
    "import ipywidgets as widgets\n",
    "import numpy as np\n",
    "\n",
    "from IPython.display import display"
   ]
  },
  {
   "cell_type": "markdown",
   "metadata": {},
   "source": [
    "# House costs calculator\n",
    "\n",
    "#### Enter asking price, premium and EURBRL rate to get costs"
   ]
  },
  {
   "cell_type": "code",
   "execution_count": 5,
   "metadata": {},
   "outputs": [],
   "source": [
    "def buying_costs(asking_price, premium):\n",
    "    \"\"\"\n",
    "    Compute buying costs based on asking price and premium\n",
    "    \"\"\"\n",
    "    bid = asking_price + premium\n",
    "    transfer_tax = 0.02 * bid\n",
    "    broker_commision = 0.01 * bid # sjouke\n",
    "    leveringsakte = 800  # escritura1\n",
    "    mortgage_deed = 800  # escritura2\n",
    "    taxatiekosten = 500  # avaliacao\n",
    "    nhg_costs = 2520\n",
    "    advisor_costs = 2000 # robbert\n",
    "    translator = 280\n",
    "    technical_survey = 500\n",
    "    value = (transfer_tax + broker_commision + \n",
    "             leveringsakte + mortgage_deed + \n",
    "             taxatiekosten + nhg_costs + advisor_costs + \n",
    "             translator + technical_survey)\n",
    "    return value\n",
    "\n",
    "    "
   ]
  },
  {
   "cell_type": "code",
   "execution_count": 6,
   "metadata": {},
   "outputs": [
    {
     "data": {
      "application/vnd.jupyter.widget-view+json": {
       "model_id": "4d0d1404cd554ebea31a9ccdcfc63663",
       "version_major": 2,
       "version_minor": 0
      },
      "text/plain": [
       "interactive(children=(IntSlider(value=239000, description='asking_price', max=280000, min=230000, step=500), I…"
      ]
     },
     "metadata": {},
     "output_type": "display_data"
    }
   ],
   "source": [
    "def show(asking_price, premium, eurbrl):\n",
    "    \"\"\"\n",
    "    show\n",
    "    \"\"\"\n",
    "    bid = asking_price + premium\n",
    "    cost = buying_costs(asking_price, premium) \n",
    "    print(f'Bid value    : EUR {bid:>10,.2f}')\n",
    "    print(f'Buying Costs : EUR {cost:>10,.2f}')\n",
    "    print(f'Buying Costs : BRL {cost*eurbrl:>10,.2f}')\n",
    "    print(f'Total Costs  : EUR {bid+cost:>10,.2f}')\n",
    "    print(f'Total Costs  : BRL {(bid+cost)*eurbrl:>10,.2f}')\n",
    "\n",
    "\n",
    "controls = widgets.interactive(show, \n",
    "                               asking_price=widgets.IntSlider(min=230000, max=280000, step=500, value=239000),\n",
    "                               premium=widgets.IntSlider(min=-20000, max=60000, step=500, value=5000),\n",
    "                               eurbrl=widgets.FloatSlider(min=4, max=5, step=.01, value=4.5))\n",
    "\n",
    "display(controls)"
   ]
  },
  {
   "cell_type": "code",
   "execution_count": null,
   "metadata": {},
   "outputs": [],
   "source": []
  },
  {
   "cell_type": "code",
   "execution_count": null,
   "metadata": {},
   "outputs": [],
   "source": []
  }
 ],
 "metadata": {
  "kernelspec": {
   "display_name": "Python 3",
   "language": "python",
   "name": "python3"
  },
  "language_info": {
   "codemirror_mode": {
    "name": "ipython",
    "version": 3
   },
   "file_extension": ".py",
   "mimetype": "text/x-python",
   "name": "python",
   "nbconvert_exporter": "python",
   "pygments_lexer": "ipython3",
   "version": "3.7.3"
  }
 },
 "nbformat": 4,
 "nbformat_minor": 4
}
